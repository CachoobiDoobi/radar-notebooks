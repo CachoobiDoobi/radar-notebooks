{
 "cells": [
  {
   "cell_type": "code",
   "execution_count": 1,
   "id": "7b72bab6",
   "metadata": {},
   "outputs": [],
   "source": [
    "from scipy.fftpack import fft, ifft, fftshift\n",
    "from scipy import conj, linspace, exp\n",
    "from scipy.constants import pi\n",
    "from matplotlib import pyplot as plt\n",
    "import numpy as np\n",
    "from numpy import zeros, sqrt, conj\n",
    "\n",
    "from scipy.constants import pi, c\n",
    "import torch"
   ]
  },
  {
   "cell_type": "code",
   "execution_count": 2,
   "id": "9f6b02e3",
   "metadata": {},
   "outputs": [],
   "source": [
    "def generate_waveform(bandwidth, pulse_duration, n_pulses, t, wait_time):\n",
    "    \n",
    "    k = bandwidth / pulse_duration\n",
    "    pulses = []\n",
    "    wait = torch.zeros((wait_time))\n",
    "    for n in range (n_pulses):\n",
    "        pulse = torch.exp(1j * pi * k * torch.pow(t - pulse_duration/2, 2))\n",
    "        pulses.append(torch.cat([pulse, wait]))\n",
    "    lfm = torch.cat(pulses).reshape(n_pulses, -1)\n",
    "    return lfm"
   ]
  },
  {
   "cell_type": "code",
   "execution_count": 3,
   "id": "bccb814c",
   "metadata": {},
   "outputs": [],
   "source": [
    "def doppler_processing(signal, data,  nfft_range, nfft_doppler):\n",
    "    range_scaling = torch.sqrt(torch.Tensor([nfft_range]))\n",
    "    doppler_scaling = torch.tensor(data.shape[-2], dtype=torch.complex64)\n",
    "    \n",
    "    kernel = torch.conj(torch.fft.fft(signal, n = nfft_range, dim=-1, norm='ortho'))\n",
    "\n",
    "    rows = range_scaling * torch.fft.ifft(torch.multiply(kernel,torch.fft.fft(data, n = nfft_range,dim=-1,norm='ortho')), n=nfft_range, dim=-1, norm='ortho')\n",
    "\n",
    "    columns = doppler_scaling * torch.fft.fft(rows, n=nfft_doppler, dim = -2, norm='ortho')\n",
    "\n",
    "    return torch.fft.fftshift(torch.fft.fftshift(columns, dim=-2),dim=-1)"
   ]
  },
  {
   "cell_type": "code",
   "execution_count": 12,
   "id": "89da14e2",
   "metadata": {},
   "outputs": [],
   "source": [
    "def make_scene(amplitudes,ranges,velocities,max_unamb_range,max_unamb_vel,nfft_range,nfft_doppler):\n",
    "\n",
    "    # compute normalized aparent ranges and velocities (considering ambiguos range/vel)\n",
    "    ranges = torch.fmod(ranges,max_unamb_range) / max_unamb_range \n",
    "    velocities = torch.fmod(velocities,max_unamb_vel) / max_unamb_vel\n",
    "\n",
    "    # compute binnned range and velocities\n",
    "    ranges = torch.round((ranges  + 1) * (nfft_range//2)).long()\n",
    "    velocities = torch.round((velocities + 1) * (nfft_doppler//2)).long()\n",
    "    \n",
    "\n",
    "    # fill scene matrix\n",
    "    scene = torch.zeros(1,nfft_doppler,nfft_range,dtype=torch.complex64)\n",
    "    for i,(rind,vind) in enumerate(zip(ranges,velocities)):\n",
    "        scene[0,vind,rind] = amplitudes[i]\n",
    "\n",
    "    return scene\n",
    "\n",
    "def fft(signal, nfft :int=None,dim :int=-1):\n",
    "    data = signal.data\n",
    "    nfft = nfft if nfft else 2 * num_samples - 1\n",
    "    return torch.fft.fft(input=data,n=nfft,dim=dim,norm='ortho')\n",
    "\n",
    "def ifft(signal,nfft :int=None,dim :int=-1):\n",
    "    data = signal.data\n",
    "    nfft = nfft if nfft else 2*num_samples - 1\n",
    "    return torch.fft.ifft(input=data,n=nfft,dim=dim,norm='ortho')"
   ]
  },
  {
   "cell_type": "code",
   "execution_count": 23,
   "id": "fc766705",
   "metadata": {},
   "outputs": [],
   "source": [
    "def simulate_target_with_scene_profile(scene_profile, num_pulses):\n",
    "\n",
    "    # scene parameters\n",
    "    nfft_doppler = scene_profile.shape[-2]\n",
    "    nfft_range = scene_profile.shape[-1]\n",
    "\n",
    "    # scaling for correcting signal amplitude\n",
    "    range_fft_scaling = torch.sqrt(torch.Tensor([nfft_range]))\n",
    "    doppler_fft_scaling = torch.sqrt(torch.Tensor([nfft_doppler]))\n",
    "\n",
    "    # kernel from operation\n",
    "    kernel = fft(signal,nfft=nfft_range)\n",
    "\n",
    "    # arrange Doppler bins\n",
    "    scene_profile = torch.fft.fftshift(torch.fft.fftshift(scene_profile,dim=-2),dim=-1)\n",
    "\n",
    "    # propagate dopplers from targets and select the number of pulses\n",
    "    print(scene_profile.shape)\n",
    "    scene_profile = ifft(scene_profile,nfft=nfft_doppler,dim=-2)[:,:num_pulses,:] * doppler_fft_scaling\n",
    "    print(scene_profile.shape)\n",
    "    # compute fft of the range profiles of each of the pulses\n",
    "    scene_profile = fft(scene_profile,nfft=nfft_range,dim=-1) * range_fft_scaling\n",
    "    # apply convolution with signal kernel and go back to time domain\n",
    "    scene_profile = ifft(torch.multiply(kernel,scene_profile),nfft=nfft_range,dim=-1)\n",
    "\n",
    "    return scene_profile"
   ]
  },
  {
   "cell_type": "code",
   "execution_count": 24,
   "id": "6784c4f3",
   "metadata": {},
   "outputs": [
    {
     "name": "stdout",
     "output_type": "stream",
     "text": [
      "Total Duration:0.000200475\n",
      "Unambiguous Range:28551.484218775\n",
      "Unambiguous Vel:373.8526724030428\n"
     ]
    },
    {
     "data": {
      "text/plain": [
       "(tensor([10000.0000, 21448.5156, 14345.5469]),\n",
       " tensor([  20.0000, -250.0000,  301.1473]))"
      ]
     },
     "execution_count": 24,
     "metadata": {},
     "output_type": "execute_result"
    }
   ],
   "source": [
    "bandwidth = 10E6\n",
    "pulse_duration = 10E-6\n",
    "n_pulses = 32\n",
    "\n",
    "fs =  4 * bandwidth\n",
    "\n",
    "num_samples = int(np.ceil(pulse_duration * fs))\n",
    "\n",
    "# wait time in samples\n",
    "wait_time = num_samples * 19\n",
    "\n",
    "total_duration = (pulse_duration + wait_time / fs)\n",
    "\n",
    "t = torch.linspace(0, pulse_duration, num_samples)\n",
    "# t = torch.cat([t,  torch.zeros((wait_time))])\n",
    "\n",
    "fc = 1E9\n",
    "\n",
    "max_unamb_range = c * (total_duration - pulse_duration) / 2\n",
    "max_unamb_vel = c / (4 * fc * total_duration)\n",
    "ranges=torch.Tensor([10E3,50E3,100E3])\n",
    "velocities=torch.Tensor([20,-250,675])\n",
    "amplitudes = (torch.Tensor([1,0.2,0.5]) + 1j*torch.Tensor([0,0.9,0.5]))\n",
    "\n",
    "\n",
    "print(f'Total Duration:{total_duration}')\n",
    "print(f'Unambiguous Range:{max_unamb_range}')\n",
    "print(f'Unambiguous Vel:{max_unamb_vel}')\n",
    "\n",
    "torch.fmod(ranges,max_unamb_range), torch.fmod(velocities, max_unamb_vel)"
   ]
  },
  {
   "cell_type": "code",
   "execution_count": 25,
   "id": "268ad6bb",
   "metadata": {},
   "outputs": [],
   "source": [
    "signal = generate_waveform(bandwidth, pulse_duration, n_pulses, t, wait_time)"
   ]
  },
  {
   "cell_type": "code",
   "execution_count": 26,
   "id": "9ca74894",
   "metadata": {},
   "outputs": [],
   "source": [
    "nfft_range = 2 * signal.shape[1] - 1\n",
    "nfft_doppler = 1024"
   ]
  },
  {
   "cell_type": "code",
   "execution_count": 27,
   "id": "e3147782",
   "metadata": {},
   "outputs": [
    {
     "name": "stdout",
     "output_type": "stream",
     "text": [
      "torch.Size([3]) torch.Size([3])\n"
     ]
    }
   ],
   "source": [
    "scene = make_scene(amplitudes,ranges,velocities,max_unamb_range,max_unamb_vel,nfft_range,nfft_doppler)"
   ]
  },
  {
   "cell_type": "code",
   "execution_count": 28,
   "id": "60e4bf14",
   "metadata": {},
   "outputs": [
    {
     "name": "stdout",
     "output_type": "stream",
     "text": [
      "torch.Size([1, 1024, 16039])\n",
      "torch.Size([1, 32, 16039])\n",
      "SNR Loss: 0.0 dB\n"
     ]
    },
    {
     "data": {
      "image/png": "[encoded data removed]",
      "text/plain": [
       "<Figure size 640x480 with 1 Axes>"
      ]
     },
     "metadata": {},
     "output_type": "display_data"
    }
   ],
   "source": [
    "coherent_gain = int(np.ceil(pulse_duration * fs)) * signal.shape[-2]\n",
    "\n",
    "coherent_gain_db =  20*torch.log10(torch.Tensor([coherent_gain]))\n",
    "\n",
    "X = simulate_target_with_scene_profile(scene,num_pulses=32)\n",
    "\n",
    "RDout = 20*torch.log10(1E-16 + torch.abs(doppler_processing(signal, X, nfft_range, nfft_doppler)))\n",
    "RDout =  RDout - coherent_gain_db\n",
    "\n",
    "print(f'SNR Loss: {torch.max(RDout)} dB')\n",
    "plt.imshow(RDout[0,:,nfft_range//2:],aspect='auto',extent=[0, max_unamb_range * 1E-3, max_unamb_vel,-max_unamb_vel])\n",
    "plt.clim(-60,0)"
   ]
  },
  {
   "cell_type": "code",
   "execution_count": null,
   "id": "ee66a33d",
   "metadata": {},
   "outputs": [],
   "source": []
  }
 ],
 "metadata": {
  "kernelspec": {
   "display_name": "Python 3 (ipykernel)",
   "language": "python",
   "name": "python3"
  },
  "language_info": {
   "codemirror_mode": {
    "name": "ipython",
    "version": 3
   },
   "file_extension": ".py",
   "mimetype": "text/x-python",
   "name": "python",
   "nbconvert_exporter": "python",
   "pygments_lexer": "ipython3",
   "version": "3.10.9"
  }
 },
 "nbformat": 4,
 "nbformat_minor": 5
}
