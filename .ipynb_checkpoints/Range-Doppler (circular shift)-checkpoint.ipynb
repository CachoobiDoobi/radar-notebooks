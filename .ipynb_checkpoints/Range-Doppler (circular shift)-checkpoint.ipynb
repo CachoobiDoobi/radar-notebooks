{
 "cells": [
  {
   "cell_type": "code",
   "execution_count": 1,
   "id": "7b72bab6",
   "metadata": {},
   "outputs": [],
   "source": [
    "from scipy.fftpack import fft, ifft, fftshift\n",
    "from scipy import conj, linspace, exp\n",
    "from scipy.constants import pi\n",
    "from matplotlib import pyplot as plt\n",
    "import numpy as np\n",
    "from numpy import zeros, sqrt, conj\n",
    "\n",
    "from scipy.constants import pi, c\n",
    "import torch"
   ]
  },
  {
   "cell_type": "code",
   "execution_count": 2,
   "id": "9f6b02e3",
   "metadata": {},
   "outputs": [],
   "source": [
    "def generate_waveform(bandwidth, pulse_duration, n_pulses, t, wait_time):\n",
    "    \n",
    "    k = bandwidth / pulse_duration\n",
    "    pulses = []\n",
    "    wait = torch.zeros((wait_time))\n",
    "    for n in range (n_pulses):\n",
    "        pulse = torch.exp(1j * pi * k * torch.pow(t - pulse_duration/2, 2))\n",
    "        pulses.append(torch.cat([pulse, wait]))\n",
    "    lfm = torch.cat(pulses).reshape(n_pulses, -1)\n",
    "    return lfm"
   ]
  },
  {
   "cell_type": "code",
   "execution_count": 13,
   "id": "6413724e",
   "metadata": {},
   "outputs": [],
   "source": [
    "def generate_echo(signal, bandwidth, pulse_duration, ranges, velocities, r_ua, v_ua, t, fc, wait_time):\n",
    "    \n",
    "    assert len(ranges) == len(velocities)\n",
    "    \n",
    "    # compute apparent range and velocity\n",
    "    ranges = torch.fmod(ranges,r_ua)\n",
    "    velocities = torch.fmod(velocities, v_ua)\n",
    "    \n",
    "    fs = 4 * bandwidth\n",
    "    echoes = torch.zeros((signal.shape[0], signal.shape[1] * 2 -1), dtype=torch.complex64)\n",
    "\n",
    "    for i in range(len(ranges)): \n",
    "        # apply time delay\n",
    "        delayed_signal  = torch.roll(signal[0], int(np.ceil(2 * ranges[i] * fs / c)))\n",
    "        # apply doppler shift and add to echo tensor\n",
    "        echoes[:, :signal.shape[1]] += torch.multiply(delayed_signal,torch.exp(1j * torch.pi * 2 * velocities[i] * fc / c))\n",
    "        \n",
    "    # set first echo to 0\n",
    "    echoes[0] = 0\n",
    "    \n",
    "    # eclipsing\n",
    "    num_samples = int(np.ceil(pulse_duration * fs))\n",
    "    echoes[:, :num_samples] = 0 \n",
    "\n",
    "    return echoes"
   ]
  },
  {
   "cell_type": "code",
   "execution_count": 14,
   "id": "bccb814c",
   "metadata": {},
   "outputs": [],
   "source": [
    "def doppler_processing(signal, echo,  nfft_range, nfft_doppler):\n",
    "    range_scaling = torch.sqrt(torch.Tensor([nfft_range]))\n",
    "    doppler_scaling = torch.tensor(signal.shape[-2], dtype=torch.complex64)\n",
    "    \n",
    "    kernel = torch.conj(torch.fft.fft(signal, n = nfft_range, dim=-1, norm='ortho'))\n",
    "\n",
    "    rows = range_scaling * torch.fft.ifft(torch.multiply(kernel,torch.fft.fft(echo, n = nfft_range,dim=-1,norm='ortho')), n=nfft_range, dim=-1, norm='ortho')\n",
    "\n",
    "    columns = doppler_scaling * torch.fft.fft(rows, n=nfft_doppler, dim = -2, norm='ortho')\n",
    "\n",
    "    return torch.fft.fftshift(torch.fft.fftshift(columns, dim\n",
    "                                                 =-2),dim=-1)"
   ]
  },
  {
   "cell_type": "code",
   "execution_count": 15,
   "id": "6784c4f3",
   "metadata": {},
   "outputs": [
    {
     "name": "stdout",
     "output_type": "stream",
     "text": [
      "Total Duration:0.000200475\n",
      "Unambiguous Range:28551.484218775\n",
      "Unambiguous Vel:373.8526724030428\n"
     ]
    }
   ],
   "source": [
    "bandwidth = 10E6\n",
    "pulse_duration = 10E-6\n",
    "n_pulses = 32\n",
    "\n",
    "fs =  4 * bandwidth\n",
    "\n",
    "num_samples = int(np.ceil(pulse_duration * fs))\n",
    "\n",
    "# wait time in samples\n",
    "wait_time = num_samples * 19\n",
    "\n",
    "total_duration = (pulse_duration + wait_time / fs)\n",
    "\n",
    "t = torch.linspace(0, pulse_duration, num_samples)\n",
    "# t = torch.cat([t,  torch.zeros((wait_time))])\n",
    "\n",
    "fc = 1E9\n",
    "\n",
    "ranges=torch.Tensor([10E3,50E3,100E3])\n",
    "velocities=torch.Tensor([20,-250,675])\n",
    "\n",
    "r_ua = c * (total_duration - pulse_duration) / 2\n",
    "v_ua = c / (4 * fc * total_duration)\n",
    "\n",
    "print(f'Total Duration:{total_duration}')\n",
    "print(f'Unambiguous Range:{r_ua}')\n",
    "print(f'Unambiguous Vel:{v_ua}')"
   ]
  },
  {
   "cell_type": "code",
   "execution_count": 16,
   "id": "268ad6bb",
   "metadata": {},
   "outputs": [],
   "source": [
    "signal = generate_waveform(bandwidth, pulse_duration, n_pulses, t, wait_time)\n",
    "# plt.plot(torch.real(signal[0]))\n",
    "# plt.show()"
   ]
  },
  {
   "cell_type": "code",
   "execution_count": 17,
   "id": "38704175",
   "metadata": {},
   "outputs": [],
   "source": [
    "echo = generate_echo(signal,bandwidth, pulse_duration, ranges, velocities, r_ua, v_ua, t, fc, wait_time)\n",
    "# plt.plot(torch.real(echo[1]))\n",
    "# plt.show()"
   ]
  },
  {
   "cell_type": "code",
   "execution_count": 18,
   "id": "9ca74894",
   "metadata": {},
   "outputs": [],
   "source": [
    "nfft_range = 2 * echo.shape[1] - 1\n",
    "nfft_doppler = 1024"
   ]
  },
  {
   "cell_type": "code",
   "execution_count": 19,
   "id": "100cb955",
   "metadata": {},
   "outputs": [
    {
     "data": {
      "image/png": "[encoded data removed]",
      "text/plain": [
       "<Figure size 640x480 with 1 Axes>"
      ]
     },
     "metadata": {},
     "output_type": "display_data"
    }
   ],
   "source": [
    "plt.plot(torch.real(signal[1]), label='Signal')\n",
    "plt.plot(torch.real(echo[1]), label='Echo')\n",
    "plt.legend(loc=\"upper right\")\n",
    "\n",
    "plt.show()"
   ]
  },
  {
   "cell_type": "code",
   "execution_count": 20,
   "id": "5f9fdac3",
   "metadata": {},
   "outputs": [],
   "source": [
    "coherent_gain = int(np.ceil(pulse_duration * fs)) * echo.shape[-2]\n",
    "\n",
    "coherent_gain_db =  20*torch.log10(torch.Tensor([coherent_gain]))\n",
    "\n",
    "image = 20 * torch.log10(1E-16 + torch.abs(doppler_processing(signal[1:], echo[1:], nfft_range, nfft_doppler)))\n",
    "\n",
    "image -= coherent_gain_db"
   ]
  },
  {
   "cell_type": "code",
   "execution_count": 21,
   "id": "1cd402b7",
   "metadata": {},
   "outputs": [
    {
     "name": "stdout",
     "output_type": "stream",
     "text": [
      "SNR Loss: -0.5515289306640625 dB\n"
     ]
    },
    {
     "data": {
      "image/png": "[encoded data removed]",
      "text/plain": [
       "<Figure size 640x480 with 1 Axes>"
      ]
     },
     "metadata": {},
     "output_type": "display_data"
    }
   ],
   "source": [
    "print(f'SNR Loss: {torch.max(image)} dB')\n",
    "plt.imshow(image[:,nfft_range//2:],aspect='auto',extent=[0, r_ua * 1E-3, v_ua,-v_ua])\n",
    "# plt.imshow(image,aspect='auto',extent=[0, r_ua * 1E-3, v_ua,-v_ua])\n",
    "plt.xlabel('Range [km]')\n",
    "plt.ylabel('Speed [m/s]')\n",
    "plt.clim(-60,0)"
   ]
  },
  {
   "cell_type": "code",
   "execution_count": 22,
   "id": "efb5513f",
   "metadata": {},
   "outputs": [
    {
     "data": {
      "text/plain": [
       "(tensor([10000.0000, 21448.5156, 14345.5469]),\n",
       " tensor([  20.0000, -250.0000,  301.1473]))"
      ]
     },
     "execution_count": 22,
     "metadata": {},
     "output_type": "execute_result"
    }
   ],
   "source": [
    "ranges_2 = torch.fmod(ranges,r_ua)\n",
    "velocities_2 = torch.fmod(velocities, v_ua)\n",
    "ranges_2, velocities_2"
   ]
  },
  {
   "cell_type": "code",
   "execution_count": null,
   "id": "856cf8bd",
   "metadata": {},
   "outputs": [],
   "source": []
  }
 ],
 "metadata": {
  "kernelspec": {
   "display_name": "Python 3 (ipykernel)",
   "language": "python",
   "name": "python3"
  },
  "language_info": {
   "codemirror_mode": {
    "name": "ipython",
    "version": 3
   },
   "file_extension": ".py",
   "mimetype": "text/x-python",
   "name": "python",
   "nbconvert_exporter": "python",
   "pygments_lexer": "ipython3",
   "version": "3.10.9"
  }
 },
 "nbformat": 4,
 "nbformat_minor": 5
}
